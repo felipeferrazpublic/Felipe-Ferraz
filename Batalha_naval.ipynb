{
  "nbformat": 4,
  "nbformat_minor": 0,
  "metadata": {
    "colab": {
      "provenance": [],
      "authorship_tag": "ABX9TyPSYshcR5Rar4DmLgz5KOPm",
      "include_colab_link": true
    },
    "kernelspec": {
      "name": "python3",
      "display_name": "Python 3"
    },
    "language_info": {
      "name": "python"
    }
  },
  "cells": [
    {
      "cell_type": "markdown",
      "metadata": {
        "id": "view-in-github",
        "colab_type": "text"
      },
      "source": [
        "<a href=\"https://colab.research.google.com/github/felipeferrazpublic/Felipe-Ferraz/blob/main/Batalha_naval.ipynb\" target=\"_parent\"><img src=\"https://colab.research.google.com/assets/colab-badge.svg\" alt=\"Open In Colab\"/></a>"
      ]
    },
    {
      "cell_type": "code",
      "execution_count": 1,
      "metadata": {
        "id": "_txRFbNlaML-"
      },
      "outputs": [],
      "source": [
        "batalha = [[[0],[4], [1], [2], [2], [2]],\n",
        "            [[3],[4,3,0], [1,3,0], [2,3,0], [2,3,0], [2,3,0]],\n",
        "            [[0],[4,0,0], [1,0,0], [2,0,0], [2,0,0], [2,0,0]],\n",
        "            [[4],[4,4,0], [1,4,0], [2,4,0], [2,4,0], [2,4,0]],\n",
        "            [[1],[4,1,0], [1,1,0], [2,1,0], [2,1,0], [2,1,0]],\n",
        "            [[3],[4,3,0], [1,3,0], [2,3,0], [2,3,0], [2,3,0]]]"
      ]
    },
    {
      "cell_type": "code",
      "source": [
        "navio = [[1],[1, 1], [1, 1], [1, 1, 1], [1, 1, 1]]"
      ],
      "metadata": {
        "id": "w5YjsQhVkTgZ"
      },
      "execution_count": 4,
      "outputs": []
    },
    {
      "cell_type": "code",
      "source": [
        "def printTabuleiro(batalha):\n",
        "  for i in range(0, 6):\n",
        "    for j in range(0, 6):\n",
        "      if i == 0 and j == 0:\n",
        "        print(\" \", end=\"       \")\n",
        "      elif i == 0 or j == 0:\n",
        "        print(\" \" + str(batalha[i][j][0]), end=\"     \")\n",
        "      else:\n",
        "        print(\"[ \" + str(batalha[i][j][2]), end=\" ]  \")\n",
        "    print(\"\\n\")"
      ],
      "metadata": {
        "id": "gawZtmjgch6m"
      },
      "execution_count": 3,
      "outputs": []
    },
    {
      "cell_type": "code",
      "source": [
        "printTabuleiro(batalha)"
      ],
      "metadata": {
        "colab": {
          "base_uri": "https://localhost:8080/"
        },
        "id": "uEFsrLCYw9aY",
        "outputId": "8477f5a7-81e2-4221-91ad-84387354f8d8"
      },
      "execution_count": null,
      "outputs": [
        {
          "output_type": "stream",
          "name": "stdout",
          "text": [
            "         4      1      2      2      2     \n",
            "\n",
            " 3     [ 0 ]  [ 0 ]  [ 0 ]  [ 0 ]  [ 0 ]  \n",
            "\n",
            " 0     [ 0 ]  [ 0 ]  [ 0 ]  [ 0 ]  [ 0 ]  \n",
            "\n",
            " 4     [ 0 ]  [ 0 ]  [ 0 ]  [ 0 ]  [ 0 ]  \n",
            "\n",
            " 1     [ 0 ]  [ 0 ]  [ 0 ]  [ 0 ]  [ 0 ]  \n",
            "\n",
            " 3     [ 0 ]  [ 0 ]  [ 0 ]  [ 0 ]  [ 0 ]  \n",
            "\n"
          ]
        }
      ]
    },
    {
      "cell_type": "code",
      "source": [
        "def verificarNavio(batalha, navio):\n",
        "  for i in range(1, 6):\n",
        "    for j in range(1, 6):\n",
        "      # Na ponta superio esquerda\n",
        "      if (i == 1) and (j == 1) and (batalha[i][j][2] == 0)\\\n",
        "        and (batalha[i][j+1][2] == 0) and (batalha[i+1][j][2] == 0) and ( batalha[i+1][j+1][2] == 0):\n",
        "            batalha[i][j][2] = 1\n",
        "      # Na ponta superior direita\n",
        "      elif (i == 1) and (j == 5) and (batalha[i][j][2] == 0)\\\n",
        "         and (batalha[i+1][j][2] == 0) and (batalha[i][j-1][2] == 0) and (batalha[i+1][j-1][2] == 0):\n",
        "            batalha[i][j][2] = 1\n",
        "      # Na ponta inferior esquerda\n",
        "      elif (i == 5) and (j == 1) and (batalha[i][j][2] == 0)\\\n",
        "        and (batalha[i][j+1][2] == 0) and (batalha[i-1][j][2] == 0) and (batalha[i-1][j+1][2] == 0):\n",
        "            batalha[i][j][2] = 1\n",
        "      # Na ponta inferior direita\n",
        "      elif (i == 5) and (j == 5) and (batalha[i][j][2] == 0)\\\n",
        "        and (batalha[i-1][j][2] == 0) and (batalha[i][j-1][2] == 0) and (batalha[i-1][j-1][2] == 0):\n",
        "            batalha[i][j][2] = 1\n",
        "      # Na linha 1 não verifica para cima\n",
        "      elif (i == 1) and (batalha[i][j][2] == 0)\\\n",
        "        and (batalha[i][j+1][2] == 0) and (batalha[i+1][j][2] == 0) and ( batalha[i+1][j+1][2] == 0)\\\n",
        "        and (batalha[i][j-1][2] == 0) and (batalha[i+1][j-1][2] == 0):\n",
        "            batalha[i][j][2] = 1\n",
        "      # Na coluna 1 não verifica para esquerda\n",
        "      elif (j == 1) and (batalha[i][j][2] == 0)\\\n",
        "        and (batalha[i][j+1][2] == 0) and (batalha[i+1][j][2] == 0) and ( batalha[i+1][j+1][2] == 0)\\\n",
        "        and (batalha[i-1][j][2] == 0) and (batalha[i-1][j+1][2] == 0):\n",
        "            batalha[i][j][2] = 1\n",
        "      # Na linha 5 não verifica para baixo\n",
        "      elif (i == 5) and (batalha[i][j][2] == 0)\\\n",
        "        and (batalha[i][j+1][2] == 0) and (batalha[i-1][j][2] == 0) and (batalha[i][j-1][2] == 0)\\\n",
        "        and (batalha[i-1][j-1][2] == 0) and (batalha[i-1][j+1][2] == 0):\n",
        "            batalha[i][j][2] = 1\n",
        "      # Na coluna 5 não verifica para direita\n",
        "      elif (j == 5) and (batalha[i][j][2] == 0)\\\n",
        "        and (batalha[i+1][j][2] == 0) and (batalha[i-1][j][2] == 0) and (batalha[i][j-1][2] == 0)\\\n",
        "        and (batalha[i-1][j-1][2] == 0) and (batalha[i+1][j-1][2] == 0):\n",
        "            batalha[i][j][2] = 1\n",
        "      # No meio verifica todas as direções\n",
        "      elif (1<i<5) and (1<j<5) and (batalha[i][j][2] == 0)\\\n",
        "        and (batalha[i][j+1][2] == 0) and (batalha[i+1][j][2] == 0) and ( batalha[i+1][j+1][2] == 0)\\\n",
        "        and (batalha[i-1][j][2] == 0) and (batalha[i][j-1][2] == 0) and (batalha[i-1][j-1][2] == 0)\\\n",
        "        and (batalha[i+1][j-1][2] == 0) and (batalha[i-1][j+1][2] == 0):\n",
        "            batalha[i][j][2] = 1"
      ],
      "metadata": {
        "id": "sr2vfyMf82Tj"
      },
      "execution_count": 5,
      "outputs": []
    },
    {
      "cell_type": "code",
      "source": [
        "verificarNavio(batalha, navio)\n",
        "printTabuleiro(batalha)"
      ],
      "metadata": {
        "colab": {
          "base_uri": "https://localhost:8080/"
        },
        "id": "cy4PQyoknAId",
        "outputId": "41c35086-81db-4188-8707-4b44ad33091a"
      },
      "execution_count": 6,
      "outputs": [
        {
          "output_type": "stream",
          "name": "stdout",
          "text": [
            "         4      1      2      2      2     \n",
            "\n",
            " 3     [ 1 ]  [ 0 ]  [ 1 ]  [ 0 ]  [ 1 ]  \n",
            "\n",
            " 0     [ 0 ]  [ 0 ]  [ 0 ]  [ 0 ]  [ 0 ]  \n",
            "\n",
            " 4     [ 1 ]  [ 0 ]  [ 1 ]  [ 0 ]  [ 1 ]  \n",
            "\n",
            " 1     [ 0 ]  [ 0 ]  [ 0 ]  [ 0 ]  [ 0 ]  \n",
            "\n",
            " 3     [ 1 ]  [ 0 ]  [ 1 ]  [ 0 ]  [ 1 ]  \n",
            "\n"
          ]
        }
      ]
    }
  ]
}